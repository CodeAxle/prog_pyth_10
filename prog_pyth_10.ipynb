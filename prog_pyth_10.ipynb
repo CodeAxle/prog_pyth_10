{
 "cells": [
  {
   "cell_type": "markdown",
   "id": "dcedfe4b",
   "metadata": {},
   "source": [
    "# 1."
   ]
  },
  {
   "cell_type": "code",
   "execution_count": 1,
   "id": "ae1fdf88",
   "metadata": {},
   "outputs": [
    {
     "name": "stdout",
     "output_type": "stream",
     "text": [
      "Sum of elements in the list: 150\n"
     ]
    }
   ],
   "source": [
    "# code:\n",
    "# Sample list of numbers\n",
    "numbers = [10, 20, 30, 40, 50]\n",
    "\n",
    "# Calculate the sum of elements in the list\n",
    "total_sum = sum(numbers)\n",
    "\n",
    "# Print the sum\n",
    "print(\"Sum of elements in the list:\", total_sum)"
   ]
  },
  {
   "cell_type": "markdown",
   "id": "b4e977e8",
   "metadata": {},
   "source": [
    "# 2."
   ]
  },
  {
   "cell_type": "code",
   "execution_count": 2,
   "id": "a5e07aee",
   "metadata": {},
   "outputs": [
    {
     "name": "stdout",
     "output_type": "stream",
     "text": [
      "Product of numbers in the list: 12000000\n"
     ]
    }
   ],
   "source": [
    "# code:\n",
    "# Sample list of numbers\n",
    "numbers = [10, 20, 30, 40, 50]\n",
    "\n",
    "# Initialize the product to 1\n",
    "product = 1\n",
    "\n",
    "# Multiply each number in the list with the product\n",
    "for num in numbers:\n",
    "    product *= num\n",
    "\n",
    "# Print the product\n",
    "print(\"Product of numbers in the list:\", product)"
   ]
  },
  {
   "cell_type": "markdown",
   "id": "0aa154b3",
   "metadata": {},
   "source": [
    "# 3."
   ]
  },
  {
   "cell_type": "code",
   "execution_count": 3,
   "id": "f6ec216d",
   "metadata": {},
   "outputs": [
    {
     "name": "stdout",
     "output_type": "stream",
     "text": [
      "The smallest number in the list is: 2\n"
     ]
    }
   ],
   "source": [
    "# code:\n",
    "# Sample list of numbers\n",
    "numbers = [10, 5, 7, 13, 2, 8]\n",
    "\n",
    "# Find the smallest number using the min() function\n",
    "smallest = min(numbers)\n",
    "\n",
    "# Print the smallest number\n",
    "print(\"The smallest number in the list is:\", smallest)"
   ]
  },
  {
   "cell_type": "markdown",
   "id": "fef8e4ca",
   "metadata": {},
   "source": [
    "# 4."
   ]
  },
  {
   "cell_type": "code",
   "execution_count": 5,
   "id": "93745387",
   "metadata": {},
   "outputs": [
    {
     "name": "stdout",
     "output_type": "stream",
     "text": [
      "The largest number in the list is: 13\n"
     ]
    }
   ],
   "source": [
    "# code:\n",
    "# Sample list of numbers\n",
    "numbers = [10, 5, 7, 13, 2, 8]\n",
    "\n",
    "# Find the smallest number using the max() function\n",
    "largest = max(numbers)\n",
    "\n",
    "# Print the largest number\n",
    "print(\"The largest number in the list is:\", largest)"
   ]
  },
  {
   "cell_type": "markdown",
   "id": "af10bb7c",
   "metadata": {},
   "source": [
    "# 5."
   ]
  },
  {
   "cell_type": "code",
   "execution_count": 6,
   "id": "365fa183",
   "metadata": {},
   "outputs": [
    {
     "name": "stdout",
     "output_type": "stream",
     "text": [
      "The second largest number in the list is: 10\n"
     ]
    }
   ],
   "source": [
    "# code:\n",
    "# Sample list of numbers\n",
    "numbers = [10, 5, 7, 13, 2, 8]\n",
    "\n",
    "# Sort the list in descending order\n",
    "sorted_numbers = sorted(numbers, reverse=True)\n",
    "\n",
    "# The second largest number is at index 1 after sorting\n",
    "second_largest = sorted_numbers[1]\n",
    "\n",
    "# Print the second largest number\n",
    "print(\"The second largest number in the list is:\", second_largest)"
   ]
  },
  {
   "cell_type": "markdown",
   "id": "20b34f2b",
   "metadata": {},
   "source": [
    "# 6."
   ]
  },
  {
   "cell_type": "code",
   "execution_count": 7,
   "id": "238ab5cb",
   "metadata": {},
   "outputs": [
    {
     "name": "stdout",
     "output_type": "stream",
     "text": [
      "The 3 largest elements in the list are: [13, 10, 8]\n"
     ]
    }
   ],
   "source": [
    "# code:\n",
    "import heapq\n",
    "\n",
    "# Sample list of numbers\n",
    "numbers = [10, 5, 7, 13, 2, 8]\n",
    "\n",
    "# Number of largest elements to find\n",
    "N = 3\n",
    "\n",
    "# Find the N largest elements using heapq's nlargest function\n",
    "largest_elements = heapq.nlargest(N, numbers)\n",
    "\n",
    "# Print the N largest elements\n",
    "print(f\"The {N} largest elements in the list are:\", largest_elements)"
   ]
  },
  {
   "cell_type": "markdown",
   "id": "52bc960c",
   "metadata": {},
   "source": [
    "# 7."
   ]
  },
  {
   "cell_type": "code",
   "execution_count": 8,
   "id": "df2d6e97",
   "metadata": {},
   "outputs": [
    {
     "name": "stdout",
     "output_type": "stream",
     "text": [
      "Even numbers in the list: [2, 4, 6, 8, 10]\n"
     ]
    }
   ],
   "source": [
    "# code:\n",
    "# Sample list of numbers\n",
    "numbers = [1, 2, 3, 4, 5, 6, 7, 8, 9, 10]\n",
    "\n",
    "# Using list comprehension to filter even numbers\n",
    "even_numbers = [num for num in numbers if num % 2 == 0]\n",
    "\n",
    "# Print the even numbers\n",
    "print(\"Even numbers in the list:\", even_numbers)"
   ]
  },
  {
   "cell_type": "markdown",
   "id": "a87482be",
   "metadata": {},
   "source": [
    "# 8."
   ]
  },
  {
   "cell_type": "code",
   "execution_count": 9,
   "id": "1fc6e710",
   "metadata": {},
   "outputs": [
    {
     "name": "stdout",
     "output_type": "stream",
     "text": [
      "Odd numbers in the list: [1, 3, 5, 7, 9]\n"
     ]
    }
   ],
   "source": [
    "# code:\n",
    "# Sample list of numbers\n",
    "numbers = [1, 2, 3, 4, 5, 6, 7, 8, 9, 10]\n",
    "\n",
    "# Using list comprehension to filter even numbers\n",
    "odd_numbers = [num for num in numbers if num % 2 != 0]\n",
    "\n",
    "# Print the even numbers\n",
    "print(\"Odd numbers in the list:\", odd_numbers)"
   ]
  },
  {
   "cell_type": "markdown",
   "id": "7384fb47",
   "metadata": {},
   "source": [
    "# 9."
   ]
  },
  {
   "cell_type": "code",
   "execution_count": 10,
   "id": "b5fbd80c",
   "metadata": {},
   "outputs": [
    {
     "name": "stdout",
     "output_type": "stream",
     "text": [
      "List after removing empty lists: [[1, 2], [3, 4], [5, 6], [7, 8]]\n"
     ]
    }
   ],
   "source": [
    "# code:\n",
    "# Sample list containing some empty lists\n",
    "list_of_lists = [[1, 2], [], [3, 4], [], [], [5, 6], [], [7, 8], []]\n",
    "\n",
    "# Using list comprehension to filter out empty lists\n",
    "filtered_list = [lst for lst in list_of_lists if lst]\n",
    "\n",
    "# Print the filtered list\n",
    "print(\"List after removing empty lists:\", filtered_list)"
   ]
  },
  {
   "cell_type": "markdown",
   "id": "baa66bb5",
   "metadata": {},
   "source": [
    "# 10."
   ]
  },
  {
   "cell_type": "code",
   "execution_count": 11,
   "id": "c00002f5",
   "metadata": {},
   "outputs": [
    {
     "name": "stdout",
     "output_type": "stream",
     "text": [
      "Original list: [1, 2, 3, 4, 5]\n",
      "Copied list: [1, 2, 3, 4, 5]\n"
     ]
    }
   ],
   "source": [
    "# code:\n",
    "# Original list\n",
    "original_list = [1, 2, 3, 4, 5]\n",
    "\n",
    "# Using slicing\n",
    "copied_list = original_list[:]\n",
    "\n",
    "# Print the original and copied lists\n",
    "print(\"Original list:\", original_list)\n",
    "print(\"Copied list:\", copied_list)"
   ]
  },
  {
   "cell_type": "markdown",
   "id": "7da534f3",
   "metadata": {},
   "source": [
    "# 11."
   ]
  },
  {
   "cell_type": "code",
   "execution_count": 12,
   "id": "ca913209",
   "metadata": {},
   "outputs": [
    {
     "name": "stdout",
     "output_type": "stream",
     "text": [
      "Count of 2 in the list: 4\n"
     ]
    }
   ],
   "source": [
    "# code:\n",
    "# Sample list\n",
    "my_list = [1, 2, 3, 4, 2, 2, 5, 3, 1, 2]\n",
    "\n",
    "# Count occurrences of element 2 in the list\n",
    "count_of_2 = my_list.count(2)\n",
    "\n",
    "# Print the count\n",
    "print(\"Count of 2 in the list:\", count_of_2)"
   ]
  },
  {
   "cell_type": "code",
   "execution_count": null,
   "id": "cb759831",
   "metadata": {},
   "outputs": [],
   "source": []
  }
 ],
 "metadata": {
  "kernelspec": {
   "display_name": "Python 3 (ipykernel)",
   "language": "python",
   "name": "python3"
  },
  "language_info": {
   "codemirror_mode": {
    "name": "ipython",
    "version": 3
   },
   "file_extension": ".py",
   "mimetype": "text/x-python",
   "name": "python",
   "nbconvert_exporter": "python",
   "pygments_lexer": "ipython3",
   "version": "3.11.5"
  }
 },
 "nbformat": 4,
 "nbformat_minor": 5
}
